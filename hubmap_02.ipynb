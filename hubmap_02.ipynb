{
 "cells": [
  {
   "cell_type": "code",
   "execution_count": 193,
   "metadata": {},
   "outputs": [],
   "source": [
    "import numpy as np\n",
    "import mahotas\n",
    "import json\n",
    "import cv2\n",
    "import matplotlib.pyplot as plt\n",
    "import random\n",
    "import os\n",
    "import pandas as pd\n",
    "from skimage.transform import resize"
   ]
  },
  {
   "cell_type": "code",
   "execution_count": 194,
   "metadata": {},
   "outputs": [],
   "source": [
    "DATASET_FOLDER = \"/Users/jiehyun/kaggle/input/hubmap-organ-segmentation/\"\n",
    "TRAIN_IMAGES = DATASET_FOLDER + \"train_images\"\n",
    "TRAIN_ANNOT = DATASET_FOLDER + \"train_annotations\"\n",
    "TRAIN_CSV = DATASET_FOLDER + \"train.csv\"\n",
    "train_df = pd.read_csv(TRAIN_CSV)\n",
    "binary_masks = DATASET_FOLDER + \"binary_masks\""
   ]
  },
  {
   "cell_type": "code",
   "execution_count": 195,
   "metadata": {},
   "outputs": [
    {
     "data": {
      "text/plain": [
       "351"
      ]
     },
     "execution_count": 195,
     "metadata": {},
     "output_type": "execute_result"
    }
   ],
   "source": [
    "len(train_df['id'])"
   ]
  },
  {
   "cell_type": "code",
   "execution_count": 196,
   "metadata": {},
   "outputs": [],
   "source": [
    "#plt.rcParams.update({'figure.max_open_warning': 0})\n",
    "#plt.rcParams['figure.max_open_warning'] = 1000\n",
    "plt.rc('figure', max_open_warning = 0)"
   ]
  },
  {
   "cell_type": "code",
   "execution_count": 198,
   "metadata": {},
   "outputs": [],
   "source": [
    "#reference1: https://github.com/maftouni/binary_mask_from_json/blob/main/binary_mask_from_json.py\n",
    "#reference2: https://www.kaggle.com/code/soymilkk/hubmap-unet\n",
    "\n",
    "for i in range(len(train_df['id'])):\n",
    "    idx = random.randint(0, len(train_df) - 1)\n",
    "    img_id = train_df['id'][idx]\n",
    "    img_path = os.path.join(DATASET_FOLDER, f'train_images/{img_id}.tiff')\n",
    "    img = cv2.imread(img_path)\n",
    "    \n",
    "    with open(os.path.join(DATASET_FOLDER, f'train_annotations/{img_id}.json')) as json_file:\n",
    "        data = json.load(json_file)\n",
    "\n",
    "    x_val = []\n",
    "    y_val = []\n",
    "    for i in range(len(data)):\n",
    "        for j in range(len(data[i])):        \n",
    "            shape1_x=data[i][j][0]\n",
    "            shape1_y=data[i][j][1]\n",
    "            x_val.append(shape1_x)\n",
    "            y_val.append(shape1_y)\n",
    "\n",
    "    fig = plt.figure()\n",
    "\n",
    "    # normalize the data to 0 - 1\n",
    "    #plt.imshow(img.astype(np.uint8)) \n",
    "    #plt.scatter(x_val, y_val, zorder=2, color='red', marker = '.', alpha= 0.2)\n",
    "\n",
    "    mask = np.zeros((img.shape[0],img.shape[1]))\n",
    "    for i in range(len(data)):\n",
    "        img2=cv2.drawContours(mask, [np.array(data[i])], -1, (255, 255, 255), -1)\n",
    "\n",
    "    output_shape = (512, 512)\n",
    "    resized_img = resize(img, output_shape)\n",
    "    resized_mask = resize(img2, output_shape)\n",
    "\n",
    "    os.chdir(binary_masks)\n",
    "\n",
    "    #plt.imshow(img, )\n",
    "    #plt.imshow(img2, alpha = 0.5)\n",
    "    #plt.show()\n",
    "\n",
    "    file_dir = os.path.join(DATASET_FOLDER, f'binary_masks/{img_id}.png')\n",
    "    cv2.imwrite(file_dir, img2) \n",
    "    plt.close('all')"
   ]
  },
  {
   "cell_type": "code",
   "execution_count": 201,
   "metadata": {},
   "outputs": [
    {
     "name": "stdout",
     "output_type": "stream",
     "text": [
      "[[0. 0. 0. ... 0. 0. 0.]\n",
      " [0. 0. 0. ... 0. 0. 0.]\n",
      " [0. 0. 0. ... 0. 0. 0.]\n",
      " ...\n",
      " [0. 0. 0. ... 0. 0. 0.]\n",
      " [0. 0. 0. ... 0. 0. 0.]\n",
      " [0. 0. 0. ... 0. 0. 0.]]\n"
     ]
    }
   ],
   "source": [
    "print(img2[1000:1500,1000:1500])"
   ]
  },
  {
   "cell_type": "code",
   "execution_count": 202,
   "metadata": {},
   "outputs": [
    {
     "data": {
      "text/plain": [
       "255.0"
      ]
     },
     "execution_count": 202,
     "metadata": {},
     "output_type": "execute_result"
    }
   ],
   "source": [
    "img2.max()"
   ]
  },
  {
   "cell_type": "code",
   "execution_count": 203,
   "metadata": {},
   "outputs": [
    {
     "name": "stderr",
     "output_type": "stream",
     "text": [
      "/var/folders/w2/kjqd2k2x70z1qwx2jy2y7j580000gn/T/ipykernel_56204/701570927.py:1: DeprecationWarning: `np.bool` is a deprecated alias for the builtin `bool`. To silence this warning, use `bool` by itself. Doing this will not modify any behavior and is safe. If you specifically wanted the numpy scalar type, use `np.bool_` here.\n",
      "Deprecated in NumPy 1.20; for more details and guidance: https://numpy.org/devdocs/release/1.20.0-notes.html#deprecations\n",
      "  img2.astype(np.bool)\n"
     ]
    },
    {
     "data": {
      "text/plain": [
       "array([[False, False, False, ..., False, False, False],\n",
       "       [False, False, False, ..., False, False, False],\n",
       "       [False, False, False, ..., False, False, False],\n",
       "       ...,\n",
       "       [False, False, False, ..., False, False, False],\n",
       "       [False, False, False, ..., False, False, False],\n",
       "       [False, False, False, ..., False, False, False]])"
      ]
     },
     "execution_count": 203,
     "metadata": {},
     "output_type": "execute_result"
    }
   ],
   "source": [
    "img2.astype(np.bool)"
   ]
  },
  {
   "cell_type": "code",
   "execution_count": 204,
   "metadata": {},
   "outputs": [
    {
     "name": "stderr",
     "output_type": "stream",
     "text": [
      "/var/folders/w2/kjqd2k2x70z1qwx2jy2y7j580000gn/T/ipykernel_56204/2608287139.py:1: DeprecationWarning: `np.bool` is a deprecated alias for the builtin `bool`. To silence this warning, use `bool` by itself. Doing this will not modify any behavior and is safe. If you specifically wanted the numpy scalar type, use `np.bool_` here.\n",
      "Deprecated in NumPy 1.20; for more details and guidance: https://numpy.org/devdocs/release/1.20.0-notes.html#deprecations\n",
      "  plt.imshow(img2.astype(np.bool))\n"
     ]
    },
    {
     "data": {
      "text/plain": [
       "<matplotlib.image.AxesImage at 0x2bf19a800>"
      ]
     },
     "execution_count": 204,
     "metadata": {},
     "output_type": "execute_result"
    },
    {
     "data": {
      "image/png": "[encoded data removed]",
      "text/plain": [
       "<Figure size 640x480 with 1 Axes>"
      ]
     },
     "metadata": {},
     "output_type": "display_data"
    }
   ],
   "source": [
    "plt.imshow(img2.astype(np.bool))"
   ]
  }
 ],
 "metadata": {
  "kernelspec": {
   "display_name": "Python 3.10.6 64-bit",
   "language": "python",
   "name": "python3"
  },
  "language_info": {
   "codemirror_mode": {
    "name": "ipython",
    "version": 3
   },
   "file_extension": ".py",
   "mimetype": "text/x-python",
   "name": "python",
   "nbconvert_exporter": "python",
   "pygments_lexer": "ipython3",
   "version": "3.10.6"
  },
  "orig_nbformat": 4,
  "vscode": {
   "interpreter": {
    "hash": "b0fa6594d8f4cbf19f97940f81e996739fb7646882a419484c72d19e05852a7e"
   }
  }
 },
 "nbformat": 4,
 "nbformat_minor": 2
}
