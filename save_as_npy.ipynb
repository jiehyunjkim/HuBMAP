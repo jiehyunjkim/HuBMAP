{
 "cells": [
  {
   "cell_type": "code",
   "execution_count": 1,
   "metadata": {},
   "outputs": [],
   "source": [
    "import numpy as np\n",
    "from PIL import Image\n",
    "from skimage.transform import resize\n",
    "import matplotlib.pyplot as plt\n",
    "from numpy import asarray\n",
    "import pandas as pd\n",
    "import random\n",
    "import os\n",
    "import cv2\n",
    "import glob"
   ]
  },
  {
   "cell_type": "code",
   "execution_count": 3,
   "metadata": {},
   "outputs": [],
   "source": [
    "DATASET_FOLDER = \"/Users/jiehyun/kaggle/input/hubmap-organ-segmentation/\"\n",
    "TRAIN_IMAGES = DATASET_FOLDER + \"train_images\"\n",
    "TRAIN_IMAGES_512 = DATASET_FOLDER + \"train_images_512\"\n",
    "TRAIN_ANNOT = DATASET_FOLDER + \"train_annotations\"\n",
    "TRAIN_CSV = DATASET_FOLDER + \"train.csv\"\n",
    "train_df = pd.read_csv(TRAIN_CSV)\n",
    "binary_masks = DATASET_FOLDER + \"binary_masks\"\n",
    "binary_masks_512 = DATASET_FOLDER + \"binary_masks_512\"\n",
    "OUTPUT_FOLDER = \"/Users/jiehyun/kaggle/output/\"\n",
    "IMG_NPY = OUTPUT_FOLDER + 'img_npy'\n",
    "MASK_NPY = OUTPUT_FOLDER + 'mask_npy'"
   ]
  },
  {
   "cell_type": "code",
   "execution_count": 14,
   "metadata": {},
   "outputs": [],
   "source": [
    "for i in range(len(train_df['id'])):\n",
    "    idx = random.randint(0, len(train_df) - 1)\n",
    "    img_id = train_df['id'][idx]\n",
    "\n",
    "    im = Image.open(TRAIN_IMAGES_512 + f'/{img_id}.tiff')\n",
    "    #im.show()\n",
    "    imarray = np.array(im)\n",
    "    #print(imarray)\n",
    "    if f'{img_id}.npy' not in IMG_NPY:\n",
    "        np.save(OUTPUT_FOLDER + f'img_npy_512/{img_id}.npy', imarray)"
   ]
  },
  {
   "cell_type": "code",
   "execution_count": 16,
   "metadata": {},
   "outputs": [],
   "source": [
    "for i in range(len(train_df['id'])):\n",
    "    idx = random.randint(0, len(train_df) - 1)\n",
    "    img_id = train_df['id'][idx]\n",
    "\n",
    "    im = Image.open(binary_masks_512 + f'/{img_id}.png')\n",
    "    #im.show()\n",
    "    imarray = np.array(im)\n",
    "    #print(imarray)\n",
    "    if f'{img_id}.npy' not in MASK_NPY:\n",
    "        np.save(OUTPUT_FOLDER + f'mask_npy_512/{img_id}.npy', imarray)"
   ]
  }
 ],
 "metadata": {
  "kernelspec": {
   "display_name": "Python 3.10.6 64-bit",
   "language": "python",
   "name": "python3"
  },
  "language_info": {
   "codemirror_mode": {
    "name": "ipython",
    "version": 3
   },
   "file_extension": ".py",
   "mimetype": "text/x-python",
   "name": "python",
   "nbconvert_exporter": "python",
   "pygments_lexer": "ipython3",
   "version": "3.10.6"
  },
  "orig_nbformat": 4,
  "vscode": {
   "interpreter": {
    "hash": "b0fa6594d8f4cbf19f97940f81e996739fb7646882a419484c72d19e05852a7e"
   }
  }
 },
 "nbformat": 4,
 "nbformat_minor": 2
}
