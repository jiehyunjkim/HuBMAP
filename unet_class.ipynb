{
 "cells": [
  {
   "cell_type": "code",
   "execution_count": 71,
   "metadata": {},
   "outputs": [],
   "source": [
    "import numpy as np\n",
    "import pandas as pd\n",
    "import matplotlib.pyplot as plt\n",
    "import unet\n",
    "import tensorflow as tf\n",
    "from typing import Tuple, List\n",
    "from PIL import Image\n",
    "from numpy import asarray\n",
    "from skimage.transform import resize"
   ]
  },
  {
   "cell_type": "code",
   "execution_count": 72,
   "metadata": {},
   "outputs": [],
   "source": [
    "IMAGE_SIZE = (512, 512)\n",
    "channels = 1 #grayscale\n",
    "classes = 2"
   ]
  },
  {
   "cell_type": "code",
   "execution_count": 73,
   "metadata": {},
   "outputs": [],
   "source": [
    "DATASET_PATH = \"/Users/jiehyun/kaggle/\"\n",
    "# define the path to the images and masks dataset\n",
    "IMAGE_DATASET_PATH = DATASET_PATH + \"input/hubmap-organ-segmentation/train_images\"\n",
    "MASK_DATASET_PATH = DATASET_PATH + \"input/hubmap-organ-segmentation/binary_masks\"\n",
    "TRAIN_CSV = DATASET_PATH + \"input/hubmap-organ-segmentation/train.csv\"\n",
    "train_df = pd.read_csv(TRAIN_CSV)\n",
    "TOTAL_NUM_DATA = 351"
   ]
  },
  {
   "cell_type": "code",
   "execution_count": 76,
   "metadata": {},
   "outputs": [],
   "source": [
    "def load_data(count:int, splits:Tuple[float]=(0.71, 0.145, 0.145), **kwargs) -> List[tf.data.Dataset]:\n",
    "    return [tf.data.Dataset.from_tensor_slices(_build_samples(int(split * count), **kwargs))\n",
    "            for split in splits]\n",
    "\n",
    "\n",
    "def _build_samples(sample_count:int, **kwargs) -> Tuple[np.array, np.array]:\n",
    "\n",
    "    # here we load the mitochondria data\n",
    "    #loaded = np.load('mito.npz')\n",
    "    #loadedimages = loaded['arr_0'][0].copy()\n",
    "    #loadedmasks = loaded['arr_0'][1].copy()\n",
    "    '''\n",
    "    for i in range(len(train_df['id'])):\n",
    "        idx = random.randint(0, len(train_df) - 1)\n",
    "        img_id = train_df['id'][idx]\n",
    "        loadedimages = os.path.join(DATASET_PATH, f'train_images/{img_id}.tiff')\n",
    "        loadedmasks = os.path.join(DATASET_PATH, f'binary_masks/{img_id}.png')\n",
    "    '''\n",
    "    output_shape = (512, 512)\n",
    "\n",
    "    img = Image.open(IMAGE_DATASET_PATH + '/62.tiff')\n",
    "    #.convert('L')\n",
    "    #img = img.resize(output_shape)\n",
    "    loadedimages = asarray(img)\n",
    "\n",
    "    mask = Image.open(MASK_DATASET_PATH + '/62.png')\n",
    "    #mask = mask.resize(output_shape)\n",
    "    loadedmasks = asarray(mask)\n",
    "\n",
    "    # now let's go to numpyland\n",
    "    images = np.empty((sample_count, IMAGE_SIZE[0], IMAGE_SIZE[1], 1))\n",
    "    labels = np.empty((sample_count, IMAGE_SIZE[0], IMAGE_SIZE[1], 2))\n",
    "    #for i in range(sample_count):\n",
    "    #image, mask = loadedimages[i], loadedmasks[i]\n",
    "    image, mask = loadedimages, loadedmasks\n",
    "\n",
    "    image = image.reshape((IMAGE_SIZE[0], IMAGE_SIZE[1], 3)).astype(np.float)\n",
    "    mask = mask.reshape((IMAGE_SIZE[0], IMAGE_SIZE[1], 1))\n",
    "\n",
    "    image = tf.cast(image, tf.float32)/255.0\n",
    "    mask -= 1\n",
    "    #\n",
    "    # Use Tensorflow to flip the image horizontally\n",
    "    #\n",
    "    if tf.random.uniform(()) > 0.5:\n",
    "        #\n",
    "        # TODO: YOUR CODE\n",
    "        #\n",
    "        image = tf.image.flip_left_right(image)\n",
    "        mask = tf.image.flip_left_right(mask)\n",
    "    #\n",
    "    # Use Tensorflow to flip the image vertically\n",
    "    #\n",
    "    if tf.random.uniform(()) > 0.5:\n",
    "        image = tf.image.flip_up_down(image)\n",
    "        mask = tf.image.flip_up_down(mask)\n",
    "    #\n",
    "    # Use Tensorflow to rotate the image 90 degrees\n",
    "    #\n",
    "    if tf.random.uniform(()) > 0.5:\n",
    "        image = tf.image.rot90(image, k=1, name=None)\n",
    "        mask = tf.image.rot90(mask, k=1, name=None)\n",
    "    # augmentation done, let's store the image\n",
    "    #images[i] = image\n",
    "    images = image\n",
    "\n",
    "    # here we split the mask to background and foreground\n",
    "    fg = np.zeros((IMAGE_SIZE[0], IMAGE_SIZE[1], 1), dtype=np.bool)\n",
    "    fg[mask == 255] = 1\n",
    "    bg = np.zeros((IMAGE_SIZE[0], IMAGE_SIZE[1], 1), dtype=np.bool)\n",
    "    bg[mask == 0] = 1\n",
    "    \n",
    "    labels[i, :, :, 0] = bg[:,:,0]\n",
    "    labels[i, :, :, 1] = fg[:,:,0]\n",
    "\n",
    "    return images, labels"
   ]
  },
  {
   "cell_type": "code",
   "execution_count": 77,
   "metadata": {},
   "outputs": [
    {
     "ename": "ValueError",
     "evalue": "cannot reshape array of size 27000000 into shape (512,512,3)",
     "output_type": "error",
     "traceback": [
      "\u001b[0;31m---------------------------------------------------------------------------\u001b[0m",
      "\u001b[0;31mValueError\u001b[0m                                Traceback (most recent call last)",
      "Cell \u001b[0;32mIn [77], line 1\u001b[0m\n\u001b[0;32m----> 1\u001b[0m train, val, test \u001b[38;5;241m=\u001b[39m load_data(TOTAL_NUM_DATA, splits\u001b[38;5;241m=\u001b[39m(\u001b[38;5;241m0.71\u001b[39m, \u001b[38;5;241m0.145\u001b[39m, \u001b[38;5;241m0.145\u001b[39m))\n",
      "Cell \u001b[0;32mIn [76], line 2\u001b[0m, in \u001b[0;36mload_data\u001b[0;34m(count, splits, **kwargs)\u001b[0m\n\u001b[1;32m      1\u001b[0m \u001b[38;5;28;01mdef\u001b[39;00m \u001b[38;5;21mload_data\u001b[39m(count:\u001b[38;5;28mint\u001b[39m, splits:Tuple[\u001b[38;5;28mfloat\u001b[39m]\u001b[38;5;241m=\u001b[39m(\u001b[38;5;241m0.71\u001b[39m, \u001b[38;5;241m0.145\u001b[39m, \u001b[38;5;241m0.145\u001b[39m), \u001b[38;5;241m*\u001b[39m\u001b[38;5;241m*\u001b[39mkwargs) \u001b[38;5;241m-\u001b[39m\u001b[38;5;241m>\u001b[39m List[tf\u001b[38;5;241m.\u001b[39mdata\u001b[38;5;241m.\u001b[39mDataset]:\n\u001b[0;32m----> 2\u001b[0m     \u001b[38;5;28;01mreturn\u001b[39;00m [tf\u001b[38;5;241m.\u001b[39mdata\u001b[38;5;241m.\u001b[39mDataset\u001b[38;5;241m.\u001b[39mfrom_tensor_slices(_build_samples(\u001b[38;5;28mint\u001b[39m(split \u001b[38;5;241m*\u001b[39m count), \u001b[38;5;241m*\u001b[39m\u001b[38;5;241m*\u001b[39mkwargs))\n\u001b[1;32m      3\u001b[0m             \u001b[38;5;28;01mfor\u001b[39;00m split \u001b[38;5;129;01min\u001b[39;00m splits]\n",
      "Cell \u001b[0;32mIn [76], line 2\u001b[0m, in \u001b[0;36m<listcomp>\u001b[0;34m(.0)\u001b[0m\n\u001b[1;32m      1\u001b[0m \u001b[38;5;28;01mdef\u001b[39;00m \u001b[38;5;21mload_data\u001b[39m(count:\u001b[38;5;28mint\u001b[39m, splits:Tuple[\u001b[38;5;28mfloat\u001b[39m]\u001b[38;5;241m=\u001b[39m(\u001b[38;5;241m0.71\u001b[39m, \u001b[38;5;241m0.145\u001b[39m, \u001b[38;5;241m0.145\u001b[39m), \u001b[38;5;241m*\u001b[39m\u001b[38;5;241m*\u001b[39mkwargs) \u001b[38;5;241m-\u001b[39m\u001b[38;5;241m>\u001b[39m List[tf\u001b[38;5;241m.\u001b[39mdata\u001b[38;5;241m.\u001b[39mDataset]:\n\u001b[0;32m----> 2\u001b[0m     \u001b[38;5;28;01mreturn\u001b[39;00m [tf\u001b[38;5;241m.\u001b[39mdata\u001b[38;5;241m.\u001b[39mDataset\u001b[38;5;241m.\u001b[39mfrom_tensor_slices(\u001b[43m_build_samples\u001b[49m\u001b[43m(\u001b[49m\u001b[38;5;28;43mint\u001b[39;49m\u001b[43m(\u001b[49m\u001b[43msplit\u001b[49m\u001b[43m \u001b[49m\u001b[38;5;241;43m*\u001b[39;49m\u001b[43m \u001b[49m\u001b[43mcount\u001b[49m\u001b[43m)\u001b[49m\u001b[43m,\u001b[49m\u001b[43m \u001b[49m\u001b[38;5;241;43m*\u001b[39;49m\u001b[38;5;241;43m*\u001b[39;49m\u001b[43mkwargs\u001b[49m\u001b[43m)\u001b[49m)\n\u001b[1;32m      3\u001b[0m             \u001b[38;5;28;01mfor\u001b[39;00m split \u001b[38;5;129;01min\u001b[39;00m splits]\n",
      "Cell \u001b[0;32mIn [76], line 37\u001b[0m, in \u001b[0;36m_build_samples\u001b[0;34m(sample_count, **kwargs)\u001b[0m\n\u001b[1;32m     33\u001b[0m \u001b[38;5;66;03m#for i in range(sample_count):\u001b[39;00m\n\u001b[1;32m     34\u001b[0m \u001b[38;5;66;03m#image, mask = loadedimages[i], loadedmasks[i]\u001b[39;00m\n\u001b[1;32m     35\u001b[0m image, mask \u001b[38;5;241m=\u001b[39m loadedimages, loadedmasks\n\u001b[0;32m---> 37\u001b[0m image \u001b[38;5;241m=\u001b[39m \u001b[43mimage\u001b[49m\u001b[38;5;241;43m.\u001b[39;49m\u001b[43mreshape\u001b[49m\u001b[43m(\u001b[49m\u001b[43m(\u001b[49m\u001b[43mIMAGE_SIZE\u001b[49m\u001b[43m[\u001b[49m\u001b[38;5;241;43m0\u001b[39;49m\u001b[43m]\u001b[49m\u001b[43m,\u001b[49m\u001b[43m \u001b[49m\u001b[43mIMAGE_SIZE\u001b[49m\u001b[43m[\u001b[49m\u001b[38;5;241;43m1\u001b[39;49m\u001b[43m]\u001b[49m\u001b[43m,\u001b[49m\u001b[43m \u001b[49m\u001b[38;5;241;43m3\u001b[39;49m\u001b[43m)\u001b[49m\u001b[43m)\u001b[49m\u001b[38;5;241m.\u001b[39mastype(np\u001b[38;5;241m.\u001b[39mfloat)\n\u001b[1;32m     38\u001b[0m mask \u001b[38;5;241m=\u001b[39m mask\u001b[38;5;241m.\u001b[39mreshape((IMAGE_SIZE[\u001b[38;5;241m0\u001b[39m], IMAGE_SIZE[\u001b[38;5;241m1\u001b[39m], \u001b[38;5;241m1\u001b[39m))\n\u001b[1;32m     40\u001b[0m image \u001b[38;5;241m=\u001b[39m tf\u001b[38;5;241m.\u001b[39mcast(image, tf\u001b[38;5;241m.\u001b[39mfloat32)\u001b[38;5;241m/\u001b[39m\u001b[38;5;241m255.0\u001b[39m\n",
      "\u001b[0;31mValueError\u001b[0m: cannot reshape array of size 27000000 into shape (512,512,3)"
     ]
    }
   ],
   "source": [
    "train, val, test = load_data(TOTAL_NUM_DATA, splits=(0.71, 0.145, 0.145))"
   ]
  },
  {
   "cell_type": "code",
   "execution_count": null,
   "metadata": {},
   "outputs": [],
   "source": [
    "LEARNING_RATE = 1e-3\n",
    "\n",
    "unet_model = unet.build_model(channels=channels,\n",
    "                              num_classes=classes,\n",
    "                              layer_depth=5,\n",
    "                              filters_root=64,\n",
    "                              padding=\"same\")\n",
    "\n",
    "unet.finalize_model(unet_model, learning_rate=LEARNING_RATE)"
   ]
  },
  {
   "cell_type": "code",
   "execution_count": null,
   "metadata": {},
   "outputs": [],
   "source": [
    "trainer = unet.Trainer(checkpoint_callback=False,\n",
    "                       learning_rate_scheduler=unet.SchedulerType.WARMUP_LINEAR_DECAY,\n",
    "                       warmup_proportion=0.1,\n",
    "                       learning_rate=LEARNING_RATE)\n",
    "\n",
    "trainer.fit(unet_model,\n",
    "            train,\n",
    "            val,\n",
    "            epochs=50,\n",
    "            batch_size=10\n",
    "            )\n"
   ]
  },
  {
   "cell_type": "code",
   "execution_count": null,
   "metadata": {},
   "outputs": [],
   "source": [
    "rows = 10\n",
    "fig, axs = plt.subplots(rows, 3, figsize=(8, 30))\n",
    "for ax, (image, label) in zip(axs, test.take(rows).batch(1)):\n",
    "  \n",
    "  prediction = unet_model.predict(image)\n",
    "  ax[0].matshow(image[0, :, :, 0])\n",
    "  ax[1].matshow(label[0, :, :, 1], cmap=\"gray\")\n",
    "  ax[2].matshow(prediction[0].argmax(axis=-1), cmap=\"gray\")"
   ]
  },
  {
   "cell_type": "code",
   "execution_count": null,
   "metadata": {},
   "outputs": [],
   "source": [
    "print(prediction[0].shape)"
   ]
  },
  {
   "cell_type": "code",
   "execution_count": null,
   "metadata": {},
   "outputs": [],
   "source": [
    "print(unet_model.summary())"
   ]
  }
 ],
 "metadata": {
  "kernelspec": {
   "display_name": "Python 3.10.6 64-bit",
   "language": "python",
   "name": "python3"
  },
  "language_info": {
   "codemirror_mode": {
    "name": "ipython",
    "version": 3
   },
   "file_extension": ".py",
   "mimetype": "text/x-python",
   "name": "python",
   "nbconvert_exporter": "python",
   "pygments_lexer": "ipython3",
   "version": "3.10.6"
  },
  "orig_nbformat": 4,
  "vscode": {
   "interpreter": {
    "hash": "b0fa6594d8f4cbf19f97940f81e996739fb7646882a419484c72d19e05852a7e"
   }
  }
 },
 "nbformat": 4,
 "nbformat_minor": 2
}
