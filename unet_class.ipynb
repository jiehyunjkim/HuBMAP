{
 "cells": [
  {
   "cell_type": "code",
   "execution_count": 194,
   "metadata": {},
   "outputs": [],
   "source": [
    "import numpy as np\n",
    "import pandas as pd\n",
    "import matplotlib.pyplot as plt\n",
    "import unet\n",
    "import tensorflow as tf\n",
    "from typing import Tuple, List\n",
    "from PIL import Image\n",
    "from numpy import asarray\n",
    "from skimage.transform import resize"
   ]
  },
  {
   "cell_type": "code",
   "execution_count": 195,
   "metadata": {},
   "outputs": [],
   "source": [
    "IMAGE_SIZE = (512, 512)\n",
    "channels = 1 #grayscale\n",
    "classes = 2"
   ]
  },
  {
   "cell_type": "code",
   "execution_count": 196,
   "metadata": {},
   "outputs": [],
   "source": [
    "DATASET_PATH = \"/Users/jiehyun/kaggle/\"\n",
    "# define the path to the images and masks dataset\n",
    "IMAGE_DATASET_PATH = DATASET_PATH + \"input/hubmap-organ-segmentation/train_images\"\n",
    "MASK_DATASET_PATH = DATASET_PATH + \"input/hubmap-organ-segmentation/binary_masks\"\n",
    "TRAIN_CSV = DATASET_PATH + \"input/hubmap-organ-segmentation/train.csv\"\n",
    "train_df = pd.read_csv(TRAIN_CSV)\n",
    "TOTAL_NUM_DATA = 351"
   ]
  },
  {
   "cell_type": "code",
   "execution_count": 211,
   "metadata": {},
   "outputs": [],
   "source": [
    "def load_data(count:int, splits:Tuple[float]=(0.71, 0.145, 0.145), **kwargs) -> List[tf.data.Dataset]:\n",
    "    return [tf.data.Dataset.from_tensor_slices(_build_samples(int(split * count), **kwargs)) for split in splits]\n",
    "\n",
    "\n",
    "def _build_samples(sample_count:int, **kwargs) -> Tuple[np.array, np.array]:\n",
    "\n",
    "    # here we load the mitochondria data\n",
    "    #loaded = np.load('mito.npz')\n",
    "    #loadedimages = loaded['arr_0'][0].copy()\n",
    "    #loadedmasks = loaded['arr_0'][1].copy()\n",
    "    \n",
    "    #loaded = np.load('img_npz.npy')\n",
    "    #loadedimages = loaded[0].copy()\n",
    "    loadedimages = np.load('image_test.npy')\n",
    "    loadedmasks = np.load('mask.npy')\n",
    "    '''\n",
    "    for i in range(len(train_df['id'])):\n",
    "        idx = random.randint(0, len(train_df) - 1)\n",
    "        img_id = train_df['id'][idx]\n",
    "        loadedimages = os.path.join(DATASET_PATH, f'train_images/{img_id}.tiff')\n",
    "        loadedmasks = os.path.join(DATASET_PATH, f'binary_masks/{img_id}.png')\n",
    "    \n",
    "    output_shape = (512, 512)\n",
    "\n",
    "    img = Image.open(IMAGE_DATASET_PATH + '/62.tiff').convert('L')\n",
    "    img = img.resize(output_shape)\n",
    "    loadedimages = asarray(img)\n",
    "    np.save('image.npy', loadedimages)\n",
    "    loadedimages = 'image.npy'\n",
    "\n",
    "    masks = Image.open(MASK_DATASET_PATH + '/62.png')\n",
    "    masks = masks.resize(output_shape)\n",
    "    loadedmasks = asarray(masks)\n",
    "    np.save('mask.npy', loadedmasks)\n",
    "    loadedmasks = 'mask.npy'\n",
    "    '''\n",
    "    # now let's go to numpyland\n",
    "    images = np.empty((sample_count, IMAGE_SIZE[0], IMAGE_SIZE[1], 1))\n",
    "    labels = np.empty((sample_count, IMAGE_SIZE[0], IMAGE_SIZE[1], 2))\n",
    "    \n",
    "    for i in range(sample_count):\n",
    "        image, mask = loadedimages[i], loadedmasks[i]\n",
    "        #image, mask = loadedimages, loadedmasks\n",
    "\n",
    "        #image = image.reshape((IMAGE_SIZE[0], IMAGE_SIZE[1], 1))\n",
    "        #.astype(np.float)\n",
    "        #mask = mask.reshape((IMAGE_SIZE[0], IMAGE_SIZE[1], 1))\n",
    "\n",
    "        image = tf.cast(image, tf.float32)/255.0\n",
    "        mask -= 1\n",
    "        #\n",
    "        # Use Tensorflow to flip the image horizontally\n",
    "        #\n",
    "        if tf.random.uniform(()) > 0.5:\n",
    "            image = tf.image.flip_left_right(image)\n",
    "            mask = tf.image.flip_left_right(mask)\n",
    "        #\n",
    "        # Use Tensorflow to flip the image vertically\n",
    "        #\n",
    "        if tf.random.uniform(()) > 0.5:\n",
    "            image = tf.image.flip_up_down(image)\n",
    "            mask = tf.image.flip_up_down(mask)\n",
    "        #\n",
    "        # Use Tensorflow to rotate the image 90 degrees\n",
    "        #\n",
    "        if tf.random.uniform(()) > 0.5:\n",
    "            image = tf.image.rot90(image, k=1, name=None)\n",
    "            mask = tf.image.rot90(mask, k=1, name=None)\n",
    "        \n",
    "        # augmentation done, let's store the image\n",
    "        images[i] = image\n",
    "        #images = image\n",
    "\n",
    "        # here we split the mask to background and foreground\n",
    "        fg = np.zeros((IMAGE_SIZE[0], IMAGE_SIZE[1], 1), dtype=np.bool)\n",
    "        fg[mask == 255] = 1\n",
    "        bg = np.zeros((IMAGE_SIZE[0], IMAGE_SIZE[1], 1), dtype=np.bool)\n",
    "        bg[mask == 0] = 1\n",
    "        \n",
    "        labels[i, :, :, 0] = bg[:,:,0]\n",
    "        labels[i, :, :, 1] = fg[:,:,0]\n",
    "\n",
    "        #images.flags.writeable = True\n",
    "        #labels.flags.writeable = True\n",
    "\n",
    "    return images, labels"
   ]
  },
  {
   "cell_type": "code",
   "execution_count": 212,
   "metadata": {},
   "outputs": [
    {
     "ename": "ValueError",
     "evalue": "'image' (shape (512, 3)) must be at least three-dimensional.",
     "output_type": "error",
     "traceback": [
      "\u001b[0;31m---------------------------------------------------------------------------\u001b[0m",
      "\u001b[0;31mValueError\u001b[0m                                Traceback (most recent call last)",
      "Cell \u001b[0;32mIn [212], line 1\u001b[0m\n\u001b[0;32m----> 1\u001b[0m train, val, test \u001b[38;5;241m=\u001b[39m load_data(TOTAL_NUM_DATA, splits\u001b[38;5;241m=\u001b[39m(\u001b[38;5;241m0.71\u001b[39m, \u001b[38;5;241m0.145\u001b[39m, \u001b[38;5;241m0.145\u001b[39m))\n",
      "Cell \u001b[0;32mIn [211], line 2\u001b[0m, in \u001b[0;36mload_data\u001b[0;34m(count, splits, **kwargs)\u001b[0m\n\u001b[1;32m      1\u001b[0m \u001b[38;5;28;01mdef\u001b[39;00m \u001b[38;5;21mload_data\u001b[39m(count:\u001b[38;5;28mint\u001b[39m, splits:Tuple[\u001b[38;5;28mfloat\u001b[39m]\u001b[38;5;241m=\u001b[39m(\u001b[38;5;241m0.71\u001b[39m, \u001b[38;5;241m0.145\u001b[39m, \u001b[38;5;241m0.145\u001b[39m), \u001b[38;5;241m*\u001b[39m\u001b[38;5;241m*\u001b[39mkwargs) \u001b[38;5;241m-\u001b[39m\u001b[38;5;241m>\u001b[39m List[tf\u001b[38;5;241m.\u001b[39mdata\u001b[38;5;241m.\u001b[39mDataset]:\n\u001b[0;32m----> 2\u001b[0m     \u001b[38;5;28;01mreturn\u001b[39;00m [tf\u001b[38;5;241m.\u001b[39mdata\u001b[38;5;241m.\u001b[39mDataset\u001b[38;5;241m.\u001b[39mfrom_tensor_slices(_build_samples(\u001b[38;5;28mint\u001b[39m(split \u001b[38;5;241m*\u001b[39m count), \u001b[38;5;241m*\u001b[39m\u001b[38;5;241m*\u001b[39mkwargs)) \u001b[38;5;28;01mfor\u001b[39;00m split \u001b[38;5;129;01min\u001b[39;00m splits]\n",
      "Cell \u001b[0;32mIn [211], line 2\u001b[0m, in \u001b[0;36m<listcomp>\u001b[0;34m(.0)\u001b[0m\n\u001b[1;32m      1\u001b[0m \u001b[38;5;28;01mdef\u001b[39;00m \u001b[38;5;21mload_data\u001b[39m(count:\u001b[38;5;28mint\u001b[39m, splits:Tuple[\u001b[38;5;28mfloat\u001b[39m]\u001b[38;5;241m=\u001b[39m(\u001b[38;5;241m0.71\u001b[39m, \u001b[38;5;241m0.145\u001b[39m, \u001b[38;5;241m0.145\u001b[39m), \u001b[38;5;241m*\u001b[39m\u001b[38;5;241m*\u001b[39mkwargs) \u001b[38;5;241m-\u001b[39m\u001b[38;5;241m>\u001b[39m List[tf\u001b[38;5;241m.\u001b[39mdata\u001b[38;5;241m.\u001b[39mDataset]:\n\u001b[0;32m----> 2\u001b[0m     \u001b[38;5;28;01mreturn\u001b[39;00m [tf\u001b[38;5;241m.\u001b[39mdata\u001b[38;5;241m.\u001b[39mDataset\u001b[38;5;241m.\u001b[39mfrom_tensor_slices(\u001b[43m_build_samples\u001b[49m\u001b[43m(\u001b[49m\u001b[38;5;28;43mint\u001b[39;49m\u001b[43m(\u001b[49m\u001b[43msplit\u001b[49m\u001b[43m \u001b[49m\u001b[38;5;241;43m*\u001b[39;49m\u001b[43m \u001b[49m\u001b[43mcount\u001b[49m\u001b[43m)\u001b[49m\u001b[43m,\u001b[49m\u001b[43m \u001b[49m\u001b[38;5;241;43m*\u001b[39;49m\u001b[38;5;241;43m*\u001b[39;49m\u001b[43mkwargs\u001b[49m\u001b[43m)\u001b[49m) \u001b[38;5;28;01mfor\u001b[39;00m split \u001b[38;5;129;01min\u001b[39;00m splits]\n",
      "Cell \u001b[0;32mIn [211], line 55\u001b[0m, in \u001b[0;36m_build_samples\u001b[0;34m(sample_count, **kwargs)\u001b[0m\n\u001b[1;32m     51\u001b[0m \u001b[38;5;66;03m#\u001b[39;00m\n\u001b[1;32m     52\u001b[0m \u001b[38;5;66;03m# Use Tensorflow to flip the image horizontally\u001b[39;00m\n\u001b[1;32m     53\u001b[0m \u001b[38;5;66;03m#\u001b[39;00m\n\u001b[1;32m     54\u001b[0m \u001b[38;5;28;01mif\u001b[39;00m tf\u001b[38;5;241m.\u001b[39mrandom\u001b[38;5;241m.\u001b[39muniform(()) \u001b[38;5;241m>\u001b[39m \u001b[38;5;241m0.5\u001b[39m:\n\u001b[0;32m---> 55\u001b[0m     image \u001b[38;5;241m=\u001b[39m \u001b[43mtf\u001b[49m\u001b[38;5;241;43m.\u001b[39;49m\u001b[43mimage\u001b[49m\u001b[38;5;241;43m.\u001b[39;49m\u001b[43mflip_left_right\u001b[49m\u001b[43m(\u001b[49m\u001b[43mimage\u001b[49m\u001b[43m)\u001b[49m\n\u001b[1;32m     56\u001b[0m     mask \u001b[38;5;241m=\u001b[39m tf\u001b[38;5;241m.\u001b[39mimage\u001b[38;5;241m.\u001b[39mflip_left_right(mask)\n\u001b[1;32m     57\u001b[0m \u001b[38;5;66;03m#\u001b[39;00m\n\u001b[1;32m     58\u001b[0m \u001b[38;5;66;03m# Use Tensorflow to flip the image vertically\u001b[39;00m\n\u001b[1;32m     59\u001b[0m \u001b[38;5;66;03m#\u001b[39;00m\n",
      "File \u001b[0;32m/opt/homebrew/lib/python3.10/site-packages/tensorflow/python/util/traceback_utils.py:153\u001b[0m, in \u001b[0;36mfilter_traceback.<locals>.error_handler\u001b[0;34m(*args, **kwargs)\u001b[0m\n\u001b[1;32m    151\u001b[0m \u001b[39mexcept\u001b[39;00m \u001b[39mException\u001b[39;00m \u001b[39mas\u001b[39;00m e:\n\u001b[1;32m    152\u001b[0m   filtered_tb \u001b[39m=\u001b[39m _process_traceback_frames(e\u001b[39m.\u001b[39m__traceback__)\n\u001b[0;32m--> 153\u001b[0m   \u001b[39mraise\u001b[39;00m e\u001b[39m.\u001b[39mwith_traceback(filtered_tb) \u001b[39mfrom\u001b[39;00m \u001b[39mNone\u001b[39m\n\u001b[1;32m    154\u001b[0m \u001b[39mfinally\u001b[39;00m:\n\u001b[1;32m    155\u001b[0m   \u001b[39mdel\u001b[39;00m filtered_tb\n",
      "File \u001b[0;32m/opt/homebrew/lib/python3.10/site-packages/tensorflow/python/ops/image_ops_impl.py:221\u001b[0m, in \u001b[0;36m_CheckAtLeast3DImage\u001b[0;34m(image, require_static)\u001b[0m\n\u001b[1;32m    219\u001b[0m     image_shape \u001b[39m=\u001b[39m image\u001b[39m.\u001b[39mget_shape()\u001b[39m.\u001b[39mwith_rank_at_least(\u001b[39m3\u001b[39m)\n\u001b[1;32m    220\u001b[0m \u001b[39mexcept\u001b[39;00m \u001b[39mValueError\u001b[39;00m:\n\u001b[0;32m--> 221\u001b[0m   \u001b[39mraise\u001b[39;00m \u001b[39mValueError\u001b[39;00m(\u001b[39m\"\u001b[39m\u001b[39m'\u001b[39m\u001b[39mimage\u001b[39m\u001b[39m'\u001b[39m\u001b[39m (shape \u001b[39m\u001b[39m%s\u001b[39;00m\u001b[39m) must be at least three-dimensional.\u001b[39m\u001b[39m\"\u001b[39m \u001b[39m%\u001b[39m\n\u001b[1;32m    222\u001b[0m                    image\u001b[39m.\u001b[39mshape)\n\u001b[1;32m    223\u001b[0m \u001b[39mif\u001b[39;00m require_static \u001b[39mand\u001b[39;00m \u001b[39mnot\u001b[39;00m image_shape\u001b[39m.\u001b[39mis_fully_defined():\n\u001b[1;32m    224\u001b[0m   \u001b[39mraise\u001b[39;00m \u001b[39mValueError\u001b[39;00m(\u001b[39m'\u001b[39m\u001b[39m\\'\u001b[39;00m\u001b[39mimage\u001b[39m\u001b[39m\\'\u001b[39;00m\u001b[39m must be fully defined.\u001b[39m\u001b[39m'\u001b[39m)\n",
      "\u001b[0;31mValueError\u001b[0m: 'image' (shape (512, 3)) must be at least three-dimensional."
     ]
    }
   ],
   "source": [
    "train, val, test = load_data(TOTAL_NUM_DATA, splits=(0.71, 0.145, 0.145))"
   ]
  },
  {
   "cell_type": "code",
   "execution_count": null,
   "metadata": {},
   "outputs": [],
   "source": [
    "LEARNING_RATE = 1e-3\n",
    "\n",
    "unet_model = unet.build_model(channels=channels,\n",
    "                              num_classes=classes,\n",
    "                              layer_depth=5,\n",
    "                              filters_root=64,\n",
    "                              padding=\"same\")\n",
    "\n",
    "unet.finalize_model(unet_model, learning_rate=LEARNING_RATE)"
   ]
  },
  {
   "cell_type": "code",
   "execution_count": null,
   "metadata": {},
   "outputs": [],
   "source": [
    "trainer = unet.Trainer(checkpoint_callback=False,\n",
    "                       learning_rate_scheduler=unet.SchedulerType.WARMUP_LINEAR_DECAY,\n",
    "                       warmup_proportion=0.1,\n",
    "                       learning_rate=LEARNING_RATE)\n",
    "\n",
    "trainer.fit(unet_model,\n",
    "            train,\n",
    "            val,\n",
    "            epochs=50,\n",
    "            batch_size=10\n",
    "            )\n"
   ]
  },
  {
   "cell_type": "code",
   "execution_count": null,
   "metadata": {},
   "outputs": [],
   "source": [
    "rows = 10\n",
    "fig, axs = plt.subplots(rows, 3, figsize=(8, 30))\n",
    "for ax, (image, label) in zip(axs, test.take(rows).batch(1)):\n",
    "  \n",
    "  prediction = unet_model.predict(image)\n",
    "  ax[0].matshow(image[0, :, :, 0])\n",
    "  ax[1].matshow(label[0, :, :, 1], cmap=\"gray\")\n",
    "  ax[2].matshow(prediction[0].argmax(axis=-1), cmap=\"gray\")"
   ]
  },
  {
   "cell_type": "code",
   "execution_count": null,
   "metadata": {},
   "outputs": [],
   "source": [
    "print(prediction[0].shape)"
   ]
  },
  {
   "cell_type": "code",
   "execution_count": null,
   "metadata": {},
   "outputs": [],
   "source": [
    "print(unet_model.summary())"
   ]
  }
 ],
 "metadata": {
  "kernelspec": {
   "display_name": "Python 3.10.6 64-bit",
   "language": "python",
   "name": "python3"
  },
  "language_info": {
   "codemirror_mode": {
    "name": "ipython",
    "version": 3
   },
   "file_extension": ".py",
   "mimetype": "text/x-python",
   "name": "python",
   "nbconvert_exporter": "python",
   "pygments_lexer": "ipython3",
   "version": "3.10.6"
  },
  "orig_nbformat": 4,
  "vscode": {
   "interpreter": {
    "hash": "b0fa6594d8f4cbf19f97940f81e996739fb7646882a419484c72d19e05852a7e"
   }
  }
 },
 "nbformat": 4,
 "nbformat_minor": 2
}
